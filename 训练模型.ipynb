{
  "nbformat": 4,
  "nbformat_minor": 0,
  "metadata": {
    "colab": {
      "provenance": [],
      "mount_file_id": "1E47KYMFPppGV4SV7DNsEljFZAuVYN9yk",
      "authorship_tag": "ABX9TyNYCHoyUP6p5UIQBSnm37vY",
      "include_colab_link": true
    },
    "kernelspec": {
      "name": "python3",
      "display_name": "Python 3"
    },
    "language_info": {
      "name": "python"
    },
    "gpuClass": "standard",
    "widgets": {
      "application/vnd.jupyter.widget-state+json": {
        "6b48555743894816baa77a6c9ddaec1f": {
          "model_module": "@jupyter-widgets/controls",
          "model_name": "VBoxModel",
          "model_module_version": "1.5.0",
          "state": {
            "_dom_classes": [],
            "_model_module": "@jupyter-widgets/controls",
            "_model_module_version": "1.5.0",
            "_model_name": "VBoxModel",
            "_view_count": null,
            "_view_module": "@jupyter-widgets/controls",
            "_view_module_version": "1.5.0",
            "_view_name": "VBoxView",
            "box_style": "",
            "children": [
              "IPY_MODEL_dbb22d2158544d989cd6c16a8d4b18bb",
              "IPY_MODEL_7060cd73e1ed419bbccc40d85912c3a6"
            ],
            "layout": "IPY_MODEL_699290812ab247f894226b5939f13eb8"
          }
        },
        "dbb22d2158544d989cd6c16a8d4b18bb": {
          "model_module": "@jupyter-widgets/controls",
          "model_name": "LabelModel",
          "model_module_version": "1.5.0",
          "state": {
            "_dom_classes": [],
            "_model_module": "@jupyter-widgets/controls",
            "_model_module_version": "1.5.0",
            "_model_name": "LabelModel",
            "_view_count": null,
            "_view_module": "@jupyter-widgets/controls",
            "_view_module_version": "1.5.0",
            "_view_name": "LabelView",
            "description": "",
            "description_tooltip": null,
            "layout": "IPY_MODEL_d2bc0f1b18f94b8db0b9eba26e6e9a4d",
            "placeholder": "​",
            "style": "IPY_MODEL_803554ef1eaa473780a8a8f174c4e1a3",
            "value": "12.859 MB of 12.859 MB uploaded (0.000 MB deduped)\r"
          }
        },
        "7060cd73e1ed419bbccc40d85912c3a6": {
          "model_module": "@jupyter-widgets/controls",
          "model_name": "FloatProgressModel",
          "model_module_version": "1.5.0",
          "state": {
            "_dom_classes": [],
            "_model_module": "@jupyter-widgets/controls",
            "_model_module_version": "1.5.0",
            "_model_name": "FloatProgressModel",
            "_view_count": null,
            "_view_module": "@jupyter-widgets/controls",
            "_view_module_version": "1.5.0",
            "_view_name": "ProgressView",
            "bar_style": "",
            "description": "",
            "description_tooltip": null,
            "layout": "IPY_MODEL_79ab78fc35504ae99c8f328e430f4339",
            "max": 1,
            "min": 0,
            "orientation": "horizontal",
            "style": "IPY_MODEL_437b58b895b3493ab59c6d81da79a7a3",
            "value": 1
          }
        },
        "699290812ab247f894226b5939f13eb8": {
          "model_module": "@jupyter-widgets/base",
          "model_name": "LayoutModel",
          "model_module_version": "1.2.0",
          "state": {
            "_model_module": "@jupyter-widgets/base",
            "_model_module_version": "1.2.0",
            "_model_name": "LayoutModel",
            "_view_count": null,
            "_view_module": "@jupyter-widgets/base",
            "_view_module_version": "1.2.0",
            "_view_name": "LayoutView",
            "align_content": null,
            "align_items": null,
            "align_self": null,
            "border": null,
            "bottom": null,
            "display": null,
            "flex": null,
            "flex_flow": null,
            "grid_area": null,
            "grid_auto_columns": null,
            "grid_auto_flow": null,
            "grid_auto_rows": null,
            "grid_column": null,
            "grid_gap": null,
            "grid_row": null,
            "grid_template_areas": null,
            "grid_template_columns": null,
            "grid_template_rows": null,
            "height": null,
            "justify_content": null,
            "justify_items": null,
            "left": null,
            "margin": null,
            "max_height": null,
            "max_width": null,
            "min_height": null,
            "min_width": null,
            "object_fit": null,
            "object_position": null,
            "order": null,
            "overflow": null,
            "overflow_x": null,
            "overflow_y": null,
            "padding": null,
            "right": null,
            "top": null,
            "visibility": null,
            "width": null
          }
        },
        "d2bc0f1b18f94b8db0b9eba26e6e9a4d": {
          "model_module": "@jupyter-widgets/base",
          "model_name": "LayoutModel",
          "model_module_version": "1.2.0",
          "state": {
            "_model_module": "@jupyter-widgets/base",
            "_model_module_version": "1.2.0",
            "_model_name": "LayoutModel",
            "_view_count": null,
            "_view_module": "@jupyter-widgets/base",
            "_view_module_version": "1.2.0",
            "_view_name": "LayoutView",
            "align_content": null,
            "align_items": null,
            "align_self": null,
            "border": null,
            "bottom": null,
            "display": null,
            "flex": null,
            "flex_flow": null,
            "grid_area": null,
            "grid_auto_columns": null,
            "grid_auto_flow": null,
            "grid_auto_rows": null,
            "grid_column": null,
            "grid_gap": null,
            "grid_row": null,
            "grid_template_areas": null,
            "grid_template_columns": null,
            "grid_template_rows": null,
            "height": null,
            "justify_content": null,
            "justify_items": null,
            "left": null,
            "margin": null,
            "max_height": null,
            "max_width": null,
            "min_height": null,
            "min_width": null,
            "object_fit": null,
            "object_position": null,
            "order": null,
            "overflow": null,
            "overflow_x": null,
            "overflow_y": null,
            "padding": null,
            "right": null,
            "top": null,
            "visibility": null,
            "width": null
          }
        },
        "803554ef1eaa473780a8a8f174c4e1a3": {
          "model_module": "@jupyter-widgets/controls",
          "model_name": "DescriptionStyleModel",
          "model_module_version": "1.5.0",
          "state": {
            "_model_module": "@jupyter-widgets/controls",
            "_model_module_version": "1.5.0",
            "_model_name": "DescriptionStyleModel",
            "_view_count": null,
            "_view_module": "@jupyter-widgets/base",
            "_view_module_version": "1.2.0",
            "_view_name": "StyleView",
            "description_width": ""
          }
        },
        "79ab78fc35504ae99c8f328e430f4339": {
          "model_module": "@jupyter-widgets/base",
          "model_name": "LayoutModel",
          "model_module_version": "1.2.0",
          "state": {
            "_model_module": "@jupyter-widgets/base",
            "_model_module_version": "1.2.0",
            "_model_name": "LayoutModel",
            "_view_count": null,
            "_view_module": "@jupyter-widgets/base",
            "_view_module_version": "1.2.0",
            "_view_name": "LayoutView",
            "align_content": null,
            "align_items": null,
            "align_self": null,
            "border": null,
            "bottom": null,
            "display": null,
            "flex": null,
            "flex_flow": null,
            "grid_area": null,
            "grid_auto_columns": null,
            "grid_auto_flow": null,
            "grid_auto_rows": null,
            "grid_column": null,
            "grid_gap": null,
            "grid_row": null,
            "grid_template_areas": null,
            "grid_template_columns": null,
            "grid_template_rows": null,
            "height": null,
            "justify_content": null,
            "justify_items": null,
            "left": null,
            "margin": null,
            "max_height": null,
            "max_width": null,
            "min_height": null,
            "min_width": null,
            "object_fit": null,
            "object_position": null,
            "order": null,
            "overflow": null,
            "overflow_x": null,
            "overflow_y": null,
            "padding": null,
            "right": null,
            "top": null,
            "visibility": null,
            "width": null
          }
        },
        "437b58b895b3493ab59c6d81da79a7a3": {
          "model_module": "@jupyter-widgets/controls",
          "model_name": "ProgressStyleModel",
          "model_module_version": "1.5.0",
          "state": {
            "_model_module": "@jupyter-widgets/controls",
            "_model_module_version": "1.5.0",
            "_model_name": "ProgressStyleModel",
            "_view_count": null,
            "_view_module": "@jupyter-widgets/base",
            "_view_module_version": "1.2.0",
            "_view_name": "StyleView",
            "bar_color": null,
            "description_width": ""
          }
        }
      }
    }
  },
  "cells": [
    {
      "cell_type": "markdown",
      "metadata": {
        "id": "view-in-github",
        "colab_type": "text"
      },
      "source": [
        "<a href=\"https://colab.research.google.com/github/yjh617/Pytorch-UNet/blob/one_classes/%E8%AE%AD%E7%BB%83%E6%A8%A1%E5%9E%8B.ipynb\" target=\"_parent\"><img src=\"https://colab.research.google.com/assets/colab-badge.svg\" alt=\"Open In Colab\"/></a>"
      ]
    },
    {
      "cell_type": "code",
      "execution_count": null,
      "metadata": {
        "id": "UiMjvdrNSWMj"
      },
      "outputs": [],
      "source": [
        "import torch\n",
        "from torch import nn\n",
        "import os\n",
        "import cv2\n",
        "from PIL import Image\n",
        "import matplotlib.pyplot as plt"
      ]
    },
    {
      "cell_type": "code",
      "source": [
        "workroot = \"/content/drive/MyDrive/Colab Notebooks/Pytorch-UNet-master\"\n",
        "os.chdir(workroot)"
      ],
      "metadata": {
        "id": "gALy95NaSk8L"
      },
      "execution_count": null,
      "outputs": []
    },
    {
      "cell_type": "code",
      "source": [
        "#!pip install wandb"
      ],
      "metadata": {
        "id": "-Sh0Ty0QT35_"
      },
      "execution_count": null,
      "outputs": []
    },
    {
      "cell_type": "code",
      "source": [
        "from unet.unet_model import *\n",
        "from unet.unet_parts import *"
      ],
      "metadata": {
        "id": "NksGVYkcTpCm"
      },
      "execution_count": null,
      "outputs": []
    },
    {
      "cell_type": "code",
      "source": [
        "from train import *\n",
        "from predict import *"
      ],
      "metadata": {
        "id": "t2kmiOW9Txyk"
      },
      "execution_count": null,
      "outputs": []
    },
    {
      "cell_type": "code",
      "source": [
        "device = torch.device(\"cuda:0\" if torch.cuda.is_available() else \"cpu\")\n",
        "model = torch.load(\"model_oneclass.pth\")\n",
        "model = model.to(device)"
      ],
      "metadata": {
        "id": "KZ0QaKC2UOSY"
      },
      "execution_count": null,
      "outputs": []
    },
    {
      "cell_type": "code",
      "source": [
        "!nvidia-smi"
      ],
      "metadata": {
        "colab": {
          "base_uri": "https://localhost:8080/"
        },
        "id": "ZmuQfjlcXnZk",
        "outputId": "98c46077-aa0a-436c-ea61-700cbd4c017b"
      },
      "execution_count": null,
      "outputs": [
        {
          "output_type": "stream",
          "name": "stdout",
          "text": [
            "Sun Mar  5 10:43:44 2023       \n",
            "+-----------------------------------------------------------------------------+\n",
            "| NVIDIA-SMI 525.85.12    Driver Version: 525.85.12    CUDA Version: 12.0     |\n",
            "|-------------------------------+----------------------+----------------------+\n",
            "| GPU  Name        Persistence-M| Bus-Id        Disp.A | Volatile Uncorr. ECC |\n",
            "| Fan  Temp  Perf  Pwr:Usage/Cap|         Memory-Usage | GPU-Util  Compute M. |\n",
            "|                               |                      |               MIG M. |\n",
            "|===============================+======================+======================|\n",
            "|   0  Tesla T4            Off  | 00000000:00:04.0 Off |                    0 |\n",
            "| N/A   72C    P0    30W /  70W |    707MiB / 15360MiB |      0%      Default |\n",
            "|                               |                      |                  N/A |\n",
            "+-------------------------------+----------------------+----------------------+\n",
            "                                                                               \n",
            "+-----------------------------------------------------------------------------+\n",
            "| Processes:                                                                  |\n",
            "|  GPU   GI   CI        PID   Type   Process name                  GPU Memory |\n",
            "|        ID   ID                                                   Usage      |\n",
            "|=============================================================================|\n",
            "+-----------------------------------------------------------------------------+\n"
          ]
        }
      ]
    },
    {
      "cell_type": "code",
      "source": [
        "train_model(model,device,img_scale=1, epochs=20, batch_size=8)"
      ],
      "metadata": {
        "colab": {
          "base_uri": "https://localhost:8080/",
          "height": 1000,
          "referenced_widgets": [
            "6b48555743894816baa77a6c9ddaec1f",
            "dbb22d2158544d989cd6c16a8d4b18bb",
            "7060cd73e1ed419bbccc40d85912c3a6",
            "699290812ab247f894226b5939f13eb8",
            "d2bc0f1b18f94b8db0b9eba26e6e9a4d",
            "803554ef1eaa473780a8a8f174c4e1a3",
            "79ab78fc35504ae99c8f328e430f4339",
            "437b58b895b3493ab59c6d81da79a7a3"
          ]
        },
        "id": "DfKkbwbmT62q",
        "outputId": "f48b7a51-b9b2-4655-cee0-71e71bbc2bdc"
      },
      "execution_count": null,
      "outputs": [
        {
          "output_type": "stream",
          "name": "stderr",
          "text": [
            "  0%|          | 0/192 [00:00<?, ?it/s]\n",
            "100%|██████████| 192/192 [00:01<00:00, 154.13it/s]\n"
          ]
        },
        {
          "output_type": "display_data",
          "data": {
            "text/plain": [
              "<IPython.core.display.HTML object>"
            ],
            "text/html": [
              "Finishing last run (ID:08ls2t2e) before initializing another..."
            ]
          },
          "metadata": {}
        },
        {
          "output_type": "display_data",
          "data": {
            "text/plain": [
              "<IPython.core.display.HTML object>"
            ],
            "text/html": [
              "Waiting for W&B process to finish... <strong style=\"color:green\">(success).</strong>"
            ]
          },
          "metadata": {}
        },
        {
          "output_type": "display_data",
          "data": {
            "text/plain": [
              "VBox(children=(Label(value='12.631 MB of 12.631 MB uploaded (0.000 MB deduped)\\r'), FloatProgress(value=1.0, m…"
            ],
            "application/vnd.jupyter.widget-view+json": {
              "version_major": 2,
              "version_minor": 0,
              "model_id": "6b48555743894816baa77a6c9ddaec1f"
            }
          },
          "metadata": {}
        },
        {
          "output_type": "display_data",
          "data": {
            "text/plain": [
              "<IPython.core.display.HTML object>"
            ],
            "text/html": [
              "<style>\n",
              "    table.wandb td:nth-child(1) { padding: 0 10px; text-align: left ; width: auto;} td:nth-child(2) {text-align: left ; width: 100%}\n",
              "    .wandb-row { display: flex; flex-direction: row; flex-wrap: wrap; justify-content: flex-start; width: 100% }\n",
              "    .wandb-col { display: flex; flex-direction: column; flex-basis: 100%; flex: 1; padding: 10px; }\n",
              "    </style>\n",
              "<div class=\"wandb-row\"><div class=\"wandb-col\"><h3>Run history:</h3><br/><table class=\"wandb\"><tr><td>epoch</td><td>▁▁▁▁▂▂▂▂▂▂▃▃▃▃▄▄▄▄▄▄▅▅▅▅▅▅▆▆▆▆▇▇▇▇▇▇████</td></tr><tr><td>learning rate</td><td>██▂▂▁▁▁▁▁▁▁▁▁▁▁▁▁▁▁▁▁▁▁▁▁▁▁▁▁▁▁▁▁▁▁▁▁▁▁▁</td></tr><tr><td>step</td><td>▁▁▁▂▂▂▂▂▂▃▃▃▃▃▃▄▄▄▄▄▅▅▅▅▅▅▆▆▆▆▆▇▇▇▇▇▇███</td></tr><tr><td>train loss</td><td>█▄▃▅▆▃▄▃▃▃▂▂▂▃▅▂▃▃▃▂▃▄▃▂▂▂▄▃▄▄▁▄▂▄▄▃▃▃▄▄</td></tr><tr><td>validation Dice</td><td>▁▁▁▁▁▁▁▁▁▁▁▁▁▁▁▁▁▁▁▁▁▁▁▁▁▁▁▁▁▁▁▁▁▁▁▁▁▁▁▁</td></tr></table><br/></div><div class=\"wandb-col\"><h3>Run summary:</h3><br/><table class=\"wandb\"><tr><td>epoch</td><td>20</td></tr><tr><td>learning rate</td><td>0.0</td></tr><tr><td>step</td><td>120</td></tr><tr><td>train loss</td><td>0.44163</td></tr><tr><td>validation Dice</td><td>0.0</td></tr></table><br/></div></div>"
            ]
          },
          "metadata": {}
        },
        {
          "output_type": "display_data",
          "data": {
            "text/plain": [
              "<IPython.core.display.HTML object>"
            ],
            "text/html": [
              " View run <strong style=\"color:#cdcd00\">unique-surf-2</strong> at: <a href='https://wandb.ai/anony-moose-507320/U-Net/runs/08ls2t2e?apiKey=de5f641baeeabbe6a4a7f476efe86b27e43ca6e7' target=\"_blank\">https://wandb.ai/anony-moose-507320/U-Net/runs/08ls2t2e?apiKey=de5f641baeeabbe6a4a7f476efe86b27e43ca6e7</a><br/>Synced 5 W&B file(s), 360 media file(s), 0 artifact file(s) and 0 other file(s)"
            ]
          },
          "metadata": {}
        },
        {
          "output_type": "display_data",
          "data": {
            "text/plain": [
              "<IPython.core.display.HTML object>"
            ],
            "text/html": [
              "Find logs at: <code>./wandb/run-20230305_110232-08ls2t2e/logs</code>"
            ]
          },
          "metadata": {}
        },
        {
          "output_type": "display_data",
          "data": {
            "text/plain": [
              "<IPython.core.display.HTML object>"
            ],
            "text/html": [
              "Successfully finished last run (ID:08ls2t2e). Initializing new run:<br/>"
            ]
          },
          "metadata": {}
        },
        {
          "output_type": "display_data",
          "data": {
            "text/plain": [
              "<IPython.core.display.HTML object>"
            ],
            "text/html": [
              "Tracking run with wandb version 0.13.10"
            ]
          },
          "metadata": {}
        },
        {
          "output_type": "display_data",
          "data": {
            "text/plain": [
              "<IPython.core.display.HTML object>"
            ],
            "text/html": [
              "Run data is saved locally in <code>/content/drive/MyDrive/Colab Notebooks/Pytorch-UNet-master/wandb/run-20230305_113028-6d6sq7c0</code>"
            ]
          },
          "metadata": {}
        },
        {
          "output_type": "display_data",
          "data": {
            "text/plain": [
              "<IPython.core.display.HTML object>"
            ],
            "text/html": [
              "Syncing run <strong><a href='https://wandb.ai/anony-moose-507320/U-Net/runs/6d6sq7c0?apiKey=de5f641baeeabbe6a4a7f476efe86b27e43ca6e7' target=\"_blank\">pious-haze-3</a></strong> to <a href='https://wandb.ai/anony-moose-507320/U-Net?apiKey=de5f641baeeabbe6a4a7f476efe86b27e43ca6e7' target=\"_blank\">Weights & Biases</a> (<a href='https://wandb.me/run' target=\"_blank\">docs</a>)<br/>"
            ]
          },
          "metadata": {}
        },
        {
          "output_type": "display_data",
          "data": {
            "text/plain": [
              "<IPython.core.display.HTML object>"
            ],
            "text/html": [
              " View project at <a href='https://wandb.ai/anony-moose-507320/U-Net?apiKey=de5f641baeeabbe6a4a7f476efe86b27e43ca6e7' target=\"_blank\">https://wandb.ai/anony-moose-507320/U-Net?apiKey=de5f641baeeabbe6a4a7f476efe86b27e43ca6e7</a>"
            ]
          },
          "metadata": {}
        },
        {
          "output_type": "display_data",
          "data": {
            "text/plain": [
              "<IPython.core.display.HTML object>"
            ],
            "text/html": [
              " View run at <a href='https://wandb.ai/anony-moose-507320/U-Net/runs/6d6sq7c0?apiKey=de5f641baeeabbe6a4a7f476efe86b27e43ca6e7' target=\"_blank\">https://wandb.ai/anony-moose-507320/U-Net/runs/6d6sq7c0?apiKey=de5f641baeeabbe6a4a7f476efe86b27e43ca6e7</a>"
            ]
          },
          "metadata": {}
        },
        {
          "output_type": "display_data",
          "data": {
            "text/plain": [
              "<IPython.core.display.HTML object>"
            ],
            "text/html": [
              "Do NOT share these links with anyone. They can be used to claim your runs."
            ]
          },
          "metadata": {}
        },
        {
          "output_type": "stream",
          "name": "stderr",
          "text": [
            "Epoch 1/20:  18%|█▊        | 32/173 [00:03<00:12, 11.40img/s, loss (batch)=0.275]\n",
            "Validation round:   0%|          | 0/2 [00:00<?, ?batch/s]\u001b[A\n",
            "Validation round:  50%|█████     | 1/2 [00:00<00:00,  1.10batch/s]\u001b[A\n",
            "Validation round: 100%|██████████| 2/2 [00:01<00:00,  1.93batch/s]\u001b[A\n",
            "Epoch 1/20:  37%|███▋      | 64/173 [00:08<00:13,  7.87img/s, loss (batch)=0.527]\n",
            "Validation round:   0%|          | 0/2 [00:00<?, ?batch/s]\u001b[A\n",
            "Validation round:  50%|█████     | 1/2 [00:00<00:00,  1.93batch/s]\u001b[A\n",
            "Validation round: 100%|██████████| 2/2 [00:00<00:00,  2.81batch/s]\u001b[A\n",
            "Epoch 1/20:  55%|█████▌    | 96/173 [00:13<00:09,  8.03img/s, loss (batch)=0.504]\n",
            "Validation round:   0%|          | 0/2 [00:00<?, ?batch/s]\u001b[A\n",
            "Validation round:  50%|█████     | 1/2 [00:00<00:00,  1.92batch/s]\u001b[A\n",
            "Validation round: 100%|██████████| 2/2 [00:00<00:00,  2.78batch/s]\u001b[A\n",
            "Epoch 1/20:  74%|███████▍  | 128/173 [00:18<00:05,  7.93img/s, loss (batch)=0.339]\n",
            "Validation round:   0%|          | 0/2 [00:00<?, ?batch/s]\u001b[A\n",
            "Validation round:  50%|█████     | 1/2 [00:00<00:00,  1.46batch/s]\u001b[A\n",
            "Validation round: 100%|██████████| 2/2 [00:00<00:00,  2.34batch/s]\u001b[A\n",
            "Epoch 1/20:  92%|█████████▏| 160/173 [00:24<00:01,  7.41img/s, loss (batch)=0.822]\n",
            "Validation round:   0%|          | 0/2 [00:00<?, ?batch/s]\u001b[A\n",
            "Validation round:  50%|█████     | 1/2 [00:00<00:00,  1.88batch/s]\u001b[A\n",
            "Validation round: 100%|██████████| 2/2 [00:00<00:00,  2.76batch/s]\u001b[A\n",
            "Epoch 1/20: 100%|██████████| 173/173 [00:27<00:00,  6.34img/s, loss (batch)=0.382]\n",
            "Epoch 2/20:   9%|▉         | 16/173 [00:01<00:12, 12.15img/s, loss (batch)=0.29] \n",
            "Validation round:   0%|          | 0/2 [00:00<?, ?batch/s]\u001b[A\n",
            "Validation round:  50%|█████     | 1/2 [00:00<00:00,  1.53batch/s]\u001b[A\n",
            "Validation round: 100%|██████████| 2/2 [00:00<00:00,  2.43batch/s]\u001b[A\n",
            "Epoch 2/20:  28%|██▊       | 48/173 [00:07<00:15,  7.99img/s, loss (batch)=0.266]\n",
            "Validation round:   0%|          | 0/2 [00:00<?, ?batch/s]\u001b[A\n",
            "Validation round:  50%|█████     | 1/2 [00:00<00:00,  1.03batch/s]\u001b[A\n",
            "Validation round: 100%|██████████| 2/2 [00:01<00:00,  1.84batch/s]\u001b[A\n",
            "Epoch 2/20:  46%|████▌     | 80/173 [00:12<00:12,  7.51img/s, loss (batch)=0.292]\n",
            "Validation round:   0%|          | 0/2 [00:00<?, ?batch/s]\u001b[A\n",
            "Validation round:  50%|█████     | 1/2 [00:00<00:00,  1.90batch/s]\u001b[A\n",
            "Validation round: 100%|██████████| 2/2 [00:00<00:00,  2.81batch/s]\u001b[A\n",
            "Epoch 2/20:  65%|██████▍   | 112/173 [00:17<00:07,  8.04img/s, loss (batch)=0.489]\n",
            "Validation round:   0%|          | 0/2 [00:00<?, ?batch/s]\u001b[A\n",
            "Validation round:  50%|█████     | 1/2 [00:00<00:00,  1.85batch/s]\u001b[A\n",
            "Validation round: 100%|██████████| 2/2 [00:00<00:00,  2.76batch/s]\u001b[A\n",
            "Epoch 2/20:  83%|████████▎ | 144/173 [00:22<00:03,  8.01img/s, loss (batch)=0.298]\n",
            "Validation round:   0%|          | 0/2 [00:00<?, ?batch/s]\u001b[A\n",
            "Validation round:  50%|█████     | 1/2 [00:00<00:00,  1.43batch/s]\u001b[A\n",
            "Validation round: 100%|██████████| 2/2 [00:00<00:00,  2.33batch/s]\u001b[A\n",
            "Epoch 2/20: 100%|██████████| 173/173 [00:27<00:00,  6.93img/s, loss (batch)=0.261]\n",
            "Validation round:   0%|          | 0/2 [00:00<?, ?batch/s]\u001b[A\n",
            "Validation round:  50%|█████     | 1/2 [00:00<00:00,  1.76batch/s]\u001b[A\n",
            "Validation round: 100%|██████████| 2/2 [00:00<00:00,  2.67batch/s]\u001b[A\n",
            "Epoch 2/20: 100%|██████████| 173/173 [00:29<00:00,  5.96img/s, loss (batch)=0.261]\n",
            "Epoch 3/20:  18%|█▊        | 32/173 [00:03<00:11, 11.88img/s, loss (batch)=0.39]\n",
            "Validation round:   0%|          | 0/2 [00:00<?, ?batch/s]\u001b[A\n",
            "Validation round:  50%|█████     | 1/2 [00:00<00:00,  1.97batch/s]\u001b[A\n",
            "Validation round: 100%|██████████| 2/2 [00:00<00:00,  2.86batch/s]\u001b[A\n",
            "Epoch 3/20:  37%|███▋      | 64/173 [00:07<00:12,  8.63img/s, loss (batch)=0.242]\n",
            "Validation round:   0%|          | 0/2 [00:00<?, ?batch/s]\u001b[A\n",
            "Validation round:  50%|█████     | 1/2 [00:00<00:00,  1.53batch/s]\u001b[A\n",
            "Validation round: 100%|██████████| 2/2 [00:00<00:00,  2.45batch/s]\u001b[A\n",
            "Epoch 3/20:  55%|█████▌    | 96/173 [00:13<00:09,  7.96img/s, loss (batch)=0.398]\n",
            "Validation round:   0%|          | 0/2 [00:00<?, ?batch/s]\u001b[A\n",
            "Validation round:  50%|█████     | 1/2 [00:00<00:00,  2.02batch/s]\u001b[A\n",
            "Validation round: 100%|██████████| 2/2 [00:00<00:00,  2.91batch/s]\u001b[A\n",
            "Epoch 3/20:  74%|███████▍  | 128/173 [00:17<00:05,  8.16img/s, loss (batch)=0.462]\n",
            "Validation round:   0%|          | 0/2 [00:00<?, ?batch/s]\u001b[A\n",
            "Validation round:  50%|█████     | 1/2 [00:00<00:00,  1.87batch/s]\u001b[A\n",
            "Validation round: 100%|██████████| 2/2 [00:00<00:00,  2.79batch/s]\u001b[A\n",
            "Epoch 3/20:  92%|█████████▏| 160/173 [00:22<00:01,  8.12img/s, loss (batch)=0.484]\n",
            "Validation round:   0%|          | 0/2 [00:00<?, ?batch/s]\u001b[A\n",
            "Validation round:  50%|█████     | 1/2 [00:00<00:00,  1.42batch/s]\u001b[A\n",
            "Validation round: 100%|██████████| 2/2 [00:00<00:00,  2.32batch/s]\u001b[A\n",
            "Epoch 3/20: 100%|██████████| 173/173 [00:26<00:00,  6.63img/s, loss (batch)=0.581]\n",
            "Epoch 4/20:   9%|▉         | 16/173 [00:01<00:11, 13.84img/s, loss (batch)=0.322]\n",
            "Validation round:   0%|          | 0/2 [00:00<?, ?batch/s]\u001b[A\n",
            "Validation round:  50%|█████     | 1/2 [00:00<00:00,  1.93batch/s]\u001b[A\n",
            "Validation round: 100%|██████████| 2/2 [00:00<00:00,  2.82batch/s]\u001b[A\n",
            "Epoch 4/20:  28%|██▊       | 48/173 [00:06<00:14,  8.74img/s, loss (batch)=0.265]\n",
            "Validation round:   0%|          | 0/2 [00:00<?, ?batch/s]\u001b[A\n",
            "Validation round:  50%|█████     | 1/2 [00:00<00:00,  1.67batch/s]\u001b[A\n",
            "Validation round: 100%|██████████| 2/2 [00:00<00:00,  2.55batch/s]\u001b[A\n",
            "Epoch 4/20:  46%|████▌     | 80/173 [00:11<00:11,  7.87img/s, loss (batch)=0.385]\n",
            "Validation round:   0%|          | 0/2 [00:00<?, ?batch/s]\u001b[A\n",
            "Validation round:  50%|█████     | 1/2 [00:00<00:00,  1.98batch/s]\u001b[A\n",
            "Validation round: 100%|██████████| 2/2 [00:00<00:00,  2.86batch/s]\u001b[A\n",
            "Epoch 4/20:  65%|██████▍   | 112/173 [00:16<00:07,  7.82img/s, loss (batch)=0.335]\n",
            "Validation round:   0%|          | 0/2 [00:00<?, ?batch/s]\u001b[A\n",
            "Validation round:  50%|█████     | 1/2 [00:00<00:00,  1.82batch/s]\u001b[A\n",
            "Validation round: 100%|██████████| 2/2 [00:00<00:00,  2.72batch/s]\u001b[A\n",
            "Epoch 4/20:  83%|████████▎ | 144/173 [00:21<00:03,  8.11img/s, loss (batch)=0.624]\n",
            "Validation round:   0%|          | 0/2 [00:00<?, ?batch/s]\u001b[A\n",
            "Validation round:  50%|█████     | 1/2 [00:00<00:00,  1.83batch/s]\u001b[A\n",
            "Validation round: 100%|██████████| 2/2 [00:00<00:00,  2.73batch/s]\u001b[A\n",
            "Epoch 4/20: 100%|██████████| 173/173 [00:26<00:00,  7.04img/s, loss (batch)=0.336]\n",
            "Validation round:   0%|          | 0/2 [00:00<?, ?batch/s]\u001b[A\n",
            "Validation round:  50%|█████     | 1/2 [00:00<00:00,  1.86batch/s]\u001b[A\n",
            "Validation round: 100%|██████████| 2/2 [00:00<00:00,  2.76batch/s]\u001b[A\n",
            "Epoch 4/20: 100%|██████████| 173/173 [00:28<00:00,  6.09img/s, loss (batch)=0.336]\n",
            "Epoch 5/20:  18%|█▊        | 32/173 [00:03<00:12, 11.26img/s, loss (batch)=0.312]\n",
            "Validation round:   0%|          | 0/2 [00:00<?, ?batch/s]\u001b[A\n",
            "Validation round:  50%|█████     | 1/2 [00:00<00:00,  1.93batch/s]\u001b[A\n",
            "Validation round: 100%|██████████| 2/2 [00:00<00:00,  2.82batch/s]\u001b[A\n",
            "Epoch 5/20:  37%|███▋      | 64/173 [00:08<00:12,  8.54img/s, loss (batch)=0.484]\n",
            "Validation round:   0%|          | 0/2 [00:00<?, ?batch/s]\u001b[A\n",
            "Validation round:  50%|█████     | 1/2 [00:00<00:00,  1.31batch/s]\u001b[A\n",
            "Validation round: 100%|██████████| 2/2 [00:01<00:00,  2.21batch/s]\u001b[A\n",
            "Epoch 5/20:  55%|█████▌    | 96/173 [00:13<00:10,  7.47img/s, loss (batch)=0.295]\n",
            "Validation round:   0%|          | 0/2 [00:00<?, ?batch/s]\u001b[A\n",
            "Validation round:  50%|█████     | 1/2 [00:00<00:00,  2.00batch/s]\u001b[A\n",
            "Validation round: 100%|██████████| 2/2 [00:00<00:00,  2.89batch/s]\u001b[A\n",
            "Epoch 5/20:  74%|███████▍  | 128/173 [00:18<00:05,  8.08img/s, loss (batch)=0.278]\n",
            "Validation round:   0%|          | 0/2 [00:00<?, ?batch/s]\u001b[A\n",
            "Validation round:  50%|█████     | 1/2 [00:00<00:00,  1.91batch/s]\u001b[A\n",
            "Validation round: 100%|██████████| 2/2 [00:00<00:00,  2.79batch/s]\u001b[A\n",
            "Epoch 5/20:  92%|█████████▏| 160/173 [00:23<00:01,  8.22img/s, loss (batch)=0.317]\n",
            "Validation round:   0%|          | 0/2 [00:00<?, ?batch/s]\u001b[A\n",
            "Validation round:  50%|█████     | 1/2 [00:00<00:00,  1.24batch/s]\u001b[A\n",
            "Validation round: 100%|██████████| 2/2 [00:01<00:00,  2.11batch/s]\u001b[A\n",
            "Epoch 5/20: 100%|██████████| 173/173 [00:27<00:00,  6.40img/s, loss (batch)=0.259]\n",
            "Epoch 6/20:   9%|▉         | 16/173 [00:01<00:12, 12.58img/s, loss (batch)=0.379]\n",
            "Validation round:   0%|          | 0/2 [00:00<?, ?batch/s]\u001b[A\n",
            "Validation round:  50%|█████     | 1/2 [00:00<00:00,  1.80batch/s]\u001b[A\n",
            "Validation round: 100%|██████████| 2/2 [00:00<00:00,  2.70batch/s]\u001b[A\n",
            "Epoch 6/20:  28%|██▊       | 48/173 [00:06<00:14,  8.63img/s, loss (batch)=0.3]  \n",
            "Validation round:   0%|          | 0/2 [00:00<?, ?batch/s]\u001b[A\n",
            "Validation round:  50%|█████     | 1/2 [00:00<00:00,  1.96batch/s]\u001b[A\n",
            "Validation round: 100%|██████████| 2/2 [00:00<00:00,  2.86batch/s]\u001b[A\n",
            "Epoch 6/20:  46%|████▌     | 80/173 [00:11<00:11,  8.09img/s, loss (batch)=0.359]\n",
            "Validation round:   0%|          | 0/2 [00:00<?, ?batch/s]\u001b[A\n",
            "Validation round:  50%|█████     | 1/2 [00:00<00:00,  1.46batch/s]\u001b[A\n",
            "Validation round: 100%|██████████| 2/2 [00:00<00:00,  2.36batch/s]\u001b[A\n",
            "Epoch 6/20:  65%|██████▍   | 112/173 [00:16<00:07,  7.72img/s, loss (batch)=0.274]\n",
            "Validation round:   0%|          | 0/2 [00:00<?, ?batch/s]\u001b[A\n",
            "Validation round:  50%|█████     | 1/2 [00:00<00:00,  1.99batch/s]\u001b[A\n",
            "Validation round: 100%|██████████| 2/2 [00:00<00:00,  2.88batch/s]\u001b[A\n",
            "Epoch 6/20:  83%|████████▎ | 144/173 [00:21<00:03,  8.10img/s, loss (batch)=0.369]\n",
            "Validation round:   0%|          | 0/2 [00:00<?, ?batch/s]\u001b[A\n",
            "Validation round:  50%|█████     | 1/2 [00:00<00:00,  1.94batch/s]\u001b[A\n",
            "Validation round: 100%|██████████| 2/2 [00:00<00:00,  2.83batch/s]\u001b[A\n",
            "Epoch 6/20: 100%|██████████| 173/173 [00:26<00:00,  7.26img/s, loss (batch)=0.217]\n",
            "Validation round:   0%|          | 0/2 [00:00<?, ?batch/s]\u001b[A\n",
            "Validation round:  50%|█████     | 1/2 [00:00<00:00,  1.42batch/s]\u001b[A\n",
            "Validation round: 100%|██████████| 2/2 [00:00<00:00,  2.32batch/s]\u001b[A\n",
            "Epoch 6/20: 100%|██████████| 173/173 [00:28<00:00,  6.06img/s, loss (batch)=0.217]\n",
            "Epoch 7/20:  18%|█▊        | 32/173 [00:03<00:12, 10.95img/s, loss (batch)=0.27] \n",
            "Validation round:   0%|          | 0/2 [00:00<?, ?batch/s]\u001b[A\n",
            "Validation round:  50%|█████     | 1/2 [00:00<00:00,  1.89batch/s]\u001b[A\n",
            "Validation round: 100%|██████████| 2/2 [00:00<00:00,  2.79batch/s]\u001b[A\n",
            "Epoch 7/20:  37%|███▋      | 64/173 [00:08<00:12,  8.62img/s, loss (batch)=0.526]\n",
            "Validation round:   0%|          | 0/2 [00:00<?, ?batch/s]\u001b[A\n",
            "Validation round:  50%|█████     | 1/2 [00:00<00:00,  1.93batch/s]\u001b[A\n",
            "Validation round: 100%|██████████| 2/2 [00:00<00:00,  2.81batch/s]\u001b[A\n",
            "Epoch 7/20:  55%|█████▌    | 96/173 [00:13<00:09,  8.20img/s, loss (batch)=0.46] \n",
            "Validation round:   0%|          | 0/2 [00:00<?, ?batch/s]\u001b[A\n",
            "Validation round:  50%|█████     | 1/2 [00:00<00:00,  1.46batch/s]\u001b[A\n",
            "Validation round: 100%|██████████| 2/2 [00:00<00:00,  2.35batch/s]\u001b[A\n",
            "Epoch 7/20:  74%|███████▍  | 128/173 [00:18<00:05,  7.78img/s, loss (batch)=0.545]\n",
            "Validation round:   0%|          | 0/2 [00:00<?, ?batch/s]\u001b[A\n",
            "Validation round:  50%|█████     | 1/2 [00:00<00:00,  1.94batch/s]\u001b[A\n",
            "Validation round: 100%|██████████| 2/2 [00:00<00:00,  2.85batch/s]\u001b[A\n",
            "Epoch 7/20:  92%|█████████▏| 160/173 [00:23<00:01,  8.13img/s, loss (batch)=0.376]\n",
            "Validation round:   0%|          | 0/2 [00:00<?, ?batch/s]\u001b[A\n",
            "Validation round:  50%|█████     | 1/2 [00:00<00:00,  1.88batch/s]\u001b[A\n",
            "Validation round: 100%|██████████| 2/2 [00:00<00:00,  2.77batch/s]\u001b[A\n",
            "Epoch 7/20: 100%|██████████| 173/173 [00:26<00:00,  6.63img/s, loss (batch)=0.246]\n",
            "Epoch 8/20:   9%|▉         | 16/173 [00:02<00:13, 11.96img/s, loss (batch)=0.274]\n",
            "Validation round:   0%|          | 0/2 [00:00<?, ?batch/s]\u001b[A\n",
            "Validation round:  50%|█████     | 1/2 [00:00<00:00,  1.47batch/s]\u001b[A\n",
            "Validation round: 100%|██████████| 2/2 [00:00<00:00,  2.38batch/s]\u001b[A\n",
            "Epoch 8/20:  28%|██▊       | 48/173 [00:07<00:15,  8.03img/s, loss (batch)=0.37] \n",
            "Validation round:   0%|          | 0/2 [00:00<?, ?batch/s]\u001b[A\n",
            "Validation round:  50%|█████     | 1/2 [00:00<00:00,  1.89batch/s]\u001b[A\n",
            "Validation round: 100%|██████████| 2/2 [00:00<00:00,  2.80batch/s]\u001b[A\n",
            "Epoch 8/20:  46%|████▌     | 80/173 [00:12<00:12,  7.75img/s, loss (batch)=0.382]\n",
            "Validation round:   0%|          | 0/2 [00:00<?, ?batch/s]\u001b[A\n",
            "Validation round:  50%|█████     | 1/2 [00:00<00:00,  1.95batch/s]\u001b[A\n",
            "Validation round: 100%|██████████| 2/2 [00:00<00:00,  2.84batch/s]\u001b[A\n",
            "Epoch 8/20:  65%|██████▍   | 112/173 [00:17<00:07,  8.01img/s, loss (batch)=0.322]\n",
            "Validation round:   0%|          | 0/2 [00:00<?, ?batch/s]\u001b[A\n",
            "Validation round:  50%|█████     | 1/2 [00:01<00:00,  1.00batch/s]\u001b[A\n",
            "Validation round: 100%|██████████| 2/2 [00:01<00:00,  1.81batch/s]\u001b[A\n",
            "Epoch 8/20:  83%|████████▎ | 144/173 [00:23<00:03,  7.26img/s, loss (batch)=0.352]\n",
            "Validation round:   0%|          | 0/2 [00:00<?, ?batch/s]\u001b[A\n",
            "Validation round:  50%|█████     | 1/2 [00:00<00:00,  1.92batch/s]\u001b[A\n",
            "Validation round: 100%|██████████| 2/2 [00:00<00:00,  2.81batch/s]\u001b[A\n",
            "Epoch 8/20: 100%|██████████| 173/173 [00:27<00:00,  7.12img/s, loss (batch)=0.295]\n",
            "Validation round:   0%|          | 0/2 [00:00<?, ?batch/s]\u001b[A\n",
            "Validation round:  50%|█████     | 1/2 [00:00<00:00,  1.90batch/s]\u001b[A\n",
            "Validation round: 100%|██████████| 2/2 [00:00<00:00,  2.79batch/s]\u001b[A\n",
            "Epoch 8/20: 100%|██████████| 173/173 [00:29<00:00,  5.89img/s, loss (batch)=0.295]\n",
            "Epoch 9/20:  18%|█▊        | 32/173 [00:03<00:12, 11.48img/s, loss (batch)=0.373]\n",
            "Validation round:   0%|          | 0/2 [00:00<?, ?batch/s]\u001b[A\n",
            "Validation round:  50%|█████     | 1/2 [00:00<00:00,  1.43batch/s]\u001b[A\n",
            "Validation round: 100%|██████████| 2/2 [00:00<00:00,  2.32batch/s]\u001b[A\n",
            "Epoch 9/20:  37%|███▋      | 64/173 [00:09<00:13,  7.83img/s, loss (batch)=0.426]\n",
            "Validation round:   0%|          | 0/2 [00:00<?, ?batch/s]\u001b[A\n",
            "Validation round:  50%|█████     | 1/2 [00:00<00:00,  1.82batch/s]\u001b[A\n",
            "Validation round: 100%|██████████| 2/2 [00:00<00:00,  2.73batch/s]\u001b[A\n",
            "Epoch 9/20:  55%|█████▌    | 96/173 [00:13<00:09,  8.11img/s, loss (batch)=0.42] \n",
            "Validation round:   0%|          | 0/2 [00:00<?, ?batch/s]\u001b[A\n",
            "Validation round:  50%|█████     | 1/2 [00:00<00:00,  1.94batch/s]\u001b[A\n",
            "Validation round: 100%|██████████| 2/2 [00:00<00:00,  2.84batch/s]\u001b[A\n",
            "Epoch 9/20:  74%|███████▍  | 128/173 [00:18<00:05,  8.22img/s, loss (batch)=0.306]\n",
            "Validation round:   0%|          | 0/2 [00:00<?, ?batch/s]\u001b[A\n",
            "Validation round:  50%|█████     | 1/2 [00:00<00:00,  1.43batch/s]\u001b[A\n",
            "Validation round: 100%|██████████| 2/2 [00:00<00:00,  2.33batch/s]\u001b[A\n",
            "Epoch 9/20:  92%|█████████▏| 160/173 [00:23<00:01,  7.77img/s, loss (batch)=0.405]\n",
            "Validation round:   0%|          | 0/2 [00:00<?, ?batch/s]\u001b[A\n",
            "Validation round:  50%|█████     | 1/2 [00:00<00:00,  1.88batch/s]\u001b[A\n",
            "Validation round: 100%|██████████| 2/2 [00:00<00:00,  2.78batch/s]\u001b[A\n",
            "Epoch 9/20: 100%|██████████| 173/173 [00:26<00:00,  6.45img/s, loss (batch)=0.196]\n",
            "Epoch 10/20:   9%|▉         | 16/173 [00:01<00:11, 13.91img/s, loss (batch)=0.329]\n",
            "Validation round:   0%|          | 0/2 [00:00<?, ?batch/s]\u001b[A\n",
            "Validation round:  50%|█████     | 1/2 [00:00<00:00,  1.70batch/s]\u001b[A\n",
            "Validation round: 100%|██████████| 2/2 [00:00<00:00,  2.62batch/s]\u001b[A\n",
            "Epoch 10/20:  28%|██▊       | 48/173 [00:06<00:14,  8.39img/s, loss (batch)=0.519]\n",
            "Validation round:   0%|          | 0/2 [00:00<?, ?batch/s]\u001b[A\n",
            "Validation round:  50%|█████     | 1/2 [00:00<00:00,  1.59batch/s]\u001b[A\n",
            "Validation round: 100%|██████████| 2/2 [00:00<00:00,  2.35batch/s]\u001b[A\n",
            "Epoch 10/20:  46%|████▌     | 80/173 [00:12<00:12,  7.63img/s, loss (batch)=0.3]  \n",
            "Validation round:   0%|          | 0/2 [00:00<?, ?batch/s]\u001b[A\n",
            "Validation round:  50%|█████     | 1/2 [00:00<00:00,  1.70batch/s]\u001b[A\n",
            "Validation round: 100%|██████████| 2/2 [00:00<00:00,  2.61batch/s]\u001b[A\n",
            "Epoch 10/20:  65%|██████▍   | 112/173 [00:16<00:07,  8.01img/s, loss (batch)=0.324]\n",
            "Validation round:   0%|          | 0/2 [00:00<?, ?batch/s]\u001b[A\n",
            "Validation round:  50%|█████     | 1/2 [00:00<00:00,  1.77batch/s]\u001b[A\n",
            "Validation round: 100%|██████████| 2/2 [00:00<00:00,  2.67batch/s]\u001b[A\n",
            "Epoch 10/20:  83%|████████▎ | 144/173 [00:21<00:03,  8.03img/s, loss (batch)=0.389]\n",
            "Validation round:   0%|          | 0/2 [00:00<?, ?batch/s]\u001b[A\n",
            "Validation round:  50%|█████     | 1/2 [00:00<00:00,  1.41batch/s]\u001b[A\n",
            "Validation round: 100%|██████████| 2/2 [00:00<00:00,  2.32batch/s]\u001b[A\n",
            "Epoch 10/20: 100%|██████████| 173/173 [00:26<00:00,  6.77img/s, loss (batch)=0.333]\n",
            "Validation round:   0%|          | 0/2 [00:00<?, ?batch/s]\u001b[A\n",
            "Validation round:  50%|█████     | 1/2 [00:00<00:00,  1.88batch/s]\u001b[A\n",
            "Validation round: 100%|██████████| 2/2 [00:00<00:00,  2.77batch/s]\u001b[A\n",
            "Epoch 10/20: 100%|██████████| 173/173 [00:28<00:00,  6.02img/s, loss (batch)=0.333]\n",
            "Epoch 11/20:  18%|█▊        | 32/173 [00:03<00:12, 11.43img/s, loss (batch)=0.257]\n",
            "Validation round:   0%|          | 0/2 [00:00<?, ?batch/s]\u001b[A\n",
            "Validation round:  50%|█████     | 1/2 [00:00<00:00,  1.92batch/s]\u001b[A\n",
            "Validation round: 100%|██████████| 2/2 [00:00<00:00,  2.82batch/s]\u001b[A\n",
            "Epoch 11/20:  37%|███▋      | 64/173 [00:08<00:12,  8.58img/s, loss (batch)=0.383]\n",
            "Validation round:   0%|          | 0/2 [00:00<?, ?batch/s]\u001b[A\n",
            "Validation round:  50%|█████     | 1/2 [00:01<00:01,  1.14s/batch]\u001b[A\n",
            "Validation round: 100%|██████████| 2/2 [00:01<00:00,  1.57batch/s]\u001b[A\n",
            "Epoch 11/20:  55%|█████▌    | 96/173 [00:13<00:10,  7.53img/s, loss (batch)=0.468]\n",
            "Validation round:   0%|          | 0/2 [00:00<?, ?batch/s]\u001b[A\n",
            "Validation round:  50%|█████     | 1/2 [00:00<00:00,  1.98batch/s]\u001b[A\n",
            "Validation round: 100%|██████████| 2/2 [00:00<00:00,  2.88batch/s]\u001b[A\n",
            "Epoch 11/20:  74%|███████▍  | 128/173 [00:18<00:05,  8.00img/s, loss (batch)=0.264]\n",
            "Validation round:   0%|          | 0/2 [00:00<?, ?batch/s]\u001b[A\n",
            "Validation round:  50%|█████     | 1/2 [00:00<00:00,  1.92batch/s]\u001b[A\n",
            "Validation round: 100%|██████████| 2/2 [00:00<00:00,  2.82batch/s]\u001b[A\n",
            "Epoch 11/20:  92%|█████████▏| 160/173 [00:23<00:01,  8.12img/s, loss (batch)=0.415]\n",
            "Validation round:   0%|          | 0/2 [00:00<?, ?batch/s]\u001b[A\n",
            "Validation round:  50%|█████     | 1/2 [00:00<00:00,  1.45batch/s]\u001b[A\n",
            "Validation round: 100%|██████████| 2/2 [00:00<00:00,  2.34batch/s]\u001b[A\n",
            "Epoch 11/20: 100%|██████████| 173/173 [00:26<00:00,  6.46img/s, loss (batch)=0.524]\n",
            "Epoch 12/20:   9%|▉         | 16/173 [00:01<00:11, 13.67img/s, loss (batch)=0.362]\n",
            "Validation round:   0%|          | 0/2 [00:00<?, ?batch/s]\u001b[A\n",
            "Validation round:  50%|█████     | 1/2 [00:00<00:00,  2.01batch/s]\u001b[A\n",
            "Validation round: 100%|██████████| 2/2 [00:00<00:00,  2.89batch/s]\u001b[A\n",
            "Epoch 12/20:  28%|██▊       | 48/173 [00:06<00:14,  8.72img/s, loss (batch)=0.344]\n",
            "Validation round:   0%|          | 0/2 [00:00<?, ?batch/s]\u001b[A\n",
            "Validation round:  50%|█████     | 1/2 [00:00<00:00,  1.87batch/s]\u001b[A\n",
            "Validation round: 100%|██████████| 2/2 [00:00<00:00,  2.73batch/s]\u001b[A\n",
            "Epoch 12/20:  46%|████▌     | 80/173 [00:11<00:11,  8.00img/s, loss (batch)=0.41] \n",
            "Validation round:   0%|          | 0/2 [00:00<?, ?batch/s]\u001b[A\n",
            "Validation round:  50%|█████     | 1/2 [00:00<00:00,  1.84batch/s]\u001b[A\n",
            "Validation round: 100%|██████████| 2/2 [00:00<00:00,  2.75batch/s]\u001b[A\n",
            "Epoch 12/20:  65%|██████▍   | 112/173 [00:16<00:07,  7.83img/s, loss (batch)=0.367]\n",
            "Validation round:   0%|          | 0/2 [00:00<?, ?batch/s]\u001b[A\n",
            "Validation round:  50%|█████     | 1/2 [00:00<00:00,  1.98batch/s]\u001b[A\n",
            "Validation round: 100%|██████████| 2/2 [00:00<00:00,  2.88batch/s]\u001b[A\n",
            "Epoch 12/20:  83%|████████▎ | 144/173 [00:21<00:03,  8.08img/s, loss (batch)=0.469]\n",
            "Validation round:   0%|          | 0/2 [00:00<?, ?batch/s]\u001b[A\n",
            "Validation round:  50%|█████     | 1/2 [00:00<00:00,  1.97batch/s]\u001b[A\n",
            "Validation round: 100%|██████████| 2/2 [00:00<00:00,  2.85batch/s]\u001b[A\n",
            "Epoch 12/20: 100%|██████████| 173/173 [00:25<00:00,  7.17img/s, loss (batch)=0.467]\n",
            "Validation round:   0%|          | 0/2 [00:00<?, ?batch/s]\u001b[A\n",
            "Validation round:  50%|█████     | 1/2 [00:00<00:00,  1.47batch/s]\u001b[A\n",
            "Validation round: 100%|██████████| 2/2 [00:00<00:00,  2.36batch/s]\u001b[A\n",
            "Epoch 12/20: 100%|██████████| 173/173 [00:28<00:00,  6.10img/s, loss (batch)=0.467]\n",
            "Epoch 13/20:  18%|█▊        | 32/173 [00:03<00:12, 11.58img/s, loss (batch)=0.323]\n",
            "Validation round:   0%|          | 0/2 [00:00<?, ?batch/s]\u001b[A\n",
            "Validation round:  50%|█████     | 1/2 [00:00<00:00,  1.87batch/s]\u001b[A\n",
            "Validation round: 100%|██████████| 2/2 [00:00<00:00,  2.72batch/s]\u001b[A\n",
            "Epoch 13/20:  37%|███▋      | 64/173 [00:08<00:12,  8.65img/s, loss (batch)=0.335]\n",
            "Validation round:   0%|          | 0/2 [00:00<?, ?batch/s]\u001b[A\n",
            "Validation round:  50%|█████     | 1/2 [00:00<00:00,  1.46batch/s]\u001b[A\n",
            "Validation round: 100%|██████████| 2/2 [00:00<00:00,  2.35batch/s]\u001b[A\n",
            "Epoch 13/20:  55%|█████▌    | 96/173 [00:13<00:09,  7.96img/s, loss (batch)=0.326]\n",
            "Validation round:   0%|          | 0/2 [00:00<?, ?batch/s]\u001b[A\n",
            "Validation round:  50%|█████     | 1/2 [00:00<00:00,  1.95batch/s]\u001b[A\n",
            "Validation round: 100%|██████████| 2/2 [00:00<00:00,  2.86batch/s]\u001b[A\n",
            "Epoch 13/20:  74%|███████▍  | 128/173 [00:17<00:05,  8.06img/s, loss (batch)=0.37] \n",
            "Validation round:   0%|          | 0/2 [00:00<?, ?batch/s]\u001b[A\n",
            "Validation round:  50%|█████     | 1/2 [00:00<00:00,  1.89batch/s]\u001b[A\n",
            "Validation round: 100%|██████████| 2/2 [00:00<00:00,  2.80batch/s]\u001b[A\n",
            "Epoch 13/20:  92%|█████████▏| 160/173 [00:22<00:01,  8.18img/s, loss (batch)=0.281]\n",
            "Validation round:   0%|          | 0/2 [00:00<?, ?batch/s]\u001b[A\n",
            "Validation round:  50%|█████     | 1/2 [00:00<00:00,  1.37batch/s]\u001b[A\n",
            "Validation round: 100%|██████████| 2/2 [00:00<00:00,  2.26batch/s]\u001b[A\n",
            "Epoch 13/20: 100%|██████████| 173/173 [00:26<00:00,  6.61img/s, loss (batch)=0.285]\n",
            "Epoch 14/20:   9%|▉         | 16/173 [00:02<00:14, 11.08img/s, loss (batch)=0.248]\n",
            "Validation round:   0%|          | 0/2 [00:00<?, ?batch/s]\u001b[A\n",
            "Validation round:  50%|█████     | 1/2 [00:00<00:00,  1.92batch/s]\u001b[A\n",
            "Validation round: 100%|██████████| 2/2 [00:00<00:00,  2.82batch/s]\u001b[A\n",
            "Epoch 14/20:  28%|██▊       | 48/173 [00:06<00:14,  8.52img/s, loss (batch)=0.391]\n",
            "Validation round:   0%|          | 0/2 [00:00<?, ?batch/s]\u001b[A\n",
            "Validation round:  50%|█████     | 1/2 [00:00<00:00,  1.79batch/s]\u001b[A\n",
            "Validation round: 100%|██████████| 2/2 [00:00<00:00,  2.69batch/s]\u001b[A\n",
            "Epoch 14/20:  46%|████▌     | 80/173 [00:11<00:11,  8.14img/s, loss (batch)=0.242]\n",
            "Validation round:   0%|          | 0/2 [00:00<?, ?batch/s]\u001b[A\n",
            "Validation round:  50%|█████     | 1/2 [00:00<00:00,  1.25batch/s]\u001b[A\n",
            "Validation round: 100%|██████████| 2/2 [00:01<00:00,  2.12batch/s]\u001b[A\n",
            "Epoch 14/20:  65%|██████▍   | 112/173 [00:17<00:08,  7.51img/s, loss (batch)=0.365]\n",
            "Validation round:   0%|          | 0/2 [00:00<?, ?batch/s]\u001b[A\n",
            "Validation round:  50%|█████     | 1/2 [00:00<00:00,  1.95batch/s]\u001b[A\n",
            "Validation round: 100%|██████████| 2/2 [00:00<00:00,  2.83batch/s]\u001b[A\n",
            "Epoch 14/20:  83%|████████▎ | 144/173 [00:21<00:03,  8.07img/s, loss (batch)=0.298]\n",
            "Validation round:   0%|          | 0/2 [00:00<?, ?batch/s]\u001b[A\n",
            "Validation round:  50%|█████     | 1/2 [00:00<00:00,  1.94batch/s]\u001b[A\n",
            "Validation round: 100%|██████████| 2/2 [00:00<00:00,  2.83batch/s]\u001b[A\n",
            "Epoch 14/20: 100%|██████████| 173/173 [00:26<00:00,  7.28img/s, loss (batch)=0.288]\n",
            "Validation round:   0%|          | 0/2 [00:00<?, ?batch/s]\u001b[A\n",
            "Validation round:  50%|█████     | 1/2 [00:00<00:00,  1.14batch/s]\u001b[A\n",
            "Validation round: 100%|██████████| 2/2 [00:01<00:00,  2.00batch/s]\u001b[A\n",
            "Epoch 14/20: 100%|██████████| 173/173 [00:28<00:00,  5.98img/s, loss (batch)=0.288]\n",
            "Epoch 15/20:  18%|█▊        | 32/173 [00:03<00:12, 11.14img/s, loss (batch)=0.345]\n",
            "Validation round:   0%|          | 0/2 [00:00<?, ?batch/s]\u001b[A\n",
            "Validation round:  50%|█████     | 1/2 [00:00<00:00,  1.26batch/s]\u001b[A\n",
            "Validation round: 100%|██████████| 2/2 [00:01<00:00,  2.13batch/s]\u001b[A\n",
            "Epoch 15/20:  37%|███▋      | 64/173 [00:08<00:13,  7.98img/s, loss (batch)=0.257]\n",
            "Validation round:   0%|          | 0/2 [00:00<?, ?batch/s]\u001b[A\n",
            "Validation round:  50%|█████     | 1/2 [00:00<00:00,  1.95batch/s]\u001b[A\n",
            "Validation round: 100%|██████████| 2/2 [00:00<00:00,  2.85batch/s]\u001b[A\n",
            "Epoch 15/20:  55%|█████▌    | 96/173 [00:13<00:09,  8.20img/s, loss (batch)=0.232]\n",
            "Validation round:   0%|          | 0/2 [00:00<?, ?batch/s]\u001b[A\n",
            "Validation round:  50%|█████     | 1/2 [00:00<00:00,  1.46batch/s]\u001b[A\n",
            "Validation round: 100%|██████████| 2/2 [00:00<00:00,  2.36batch/s]\u001b[A\n",
            "Epoch 15/20:  74%|███████▍  | 128/173 [00:18<00:05,  7.70img/s, loss (batch)=0.308]\n",
            "Validation round:   0%|          | 0/2 [00:00<?, ?batch/s]\u001b[A\n",
            "Validation round:  50%|█████     | 1/2 [00:00<00:00,  1.94batch/s]\u001b[A\n",
            "Validation round: 100%|██████████| 2/2 [00:00<00:00,  2.83batch/s]\u001b[A\n",
            "Epoch 15/20:  92%|█████████▏| 160/173 [00:23<00:01,  8.11img/s, loss (batch)=0.257]\n",
            "Validation round:   0%|          | 0/2 [00:00<?, ?batch/s]\u001b[A\n",
            "Validation round:  50%|█████     | 1/2 [00:00<00:00,  1.87batch/s]\u001b[A\n",
            "Validation round: 100%|██████████| 2/2 [00:00<00:00,  2.77batch/s]\u001b[A\n",
            "Epoch 15/20: 100%|██████████| 173/173 [00:26<00:00,  6.47img/s, loss (batch)=0.549]\n",
            "Epoch 16/20:   9%|▉         | 16/173 [00:01<00:11, 14.00img/s, loss (batch)=0.475]\n",
            "Validation round:   0%|          | 0/2 [00:00<?, ?batch/s]\u001b[A\n",
            "Validation round:  50%|█████     | 1/2 [00:00<00:00,  1.43batch/s]\u001b[A\n",
            "Validation round: 100%|██████████| 2/2 [00:00<00:00,  2.33batch/s]\u001b[A\n",
            "Epoch 16/20:  28%|██▊       | 48/173 [00:07<00:15,  8.04img/s, loss (batch)=0.311]\n",
            "Validation round:   0%|          | 0/2 [00:00<?, ?batch/s]\u001b[A\n",
            "Validation round:  50%|█████     | 1/2 [00:00<00:00,  2.03batch/s]\u001b[A\n",
            "Validation round: 100%|██████████| 2/2 [00:00<00:00,  2.89batch/s]\u001b[A\n",
            "Epoch 16/20:  46%|████▌     | 80/173 [00:12<00:11,  7.99img/s, loss (batch)=0.298]\n",
            "Validation round:   0%|          | 0/2 [00:00<?, ?batch/s]\u001b[A\n",
            "Validation round:  50%|█████     | 1/2 [00:00<00:00,  2.01batch/s]\u001b[A\n",
            "Validation round: 100%|██████████| 2/2 [00:00<00:00,  2.90batch/s]\u001b[A\n",
            "Epoch 16/20:  65%|██████▍   | 112/173 [00:16<00:07,  8.02img/s, loss (batch)=0.364]\n",
            "Validation round:   0%|          | 0/2 [00:00<?, ?batch/s]\u001b[A\n",
            "Validation round:  50%|█████     | 1/2 [00:00<00:00,  1.42batch/s]\u001b[A\n",
            "Validation round: 100%|██████████| 2/2 [00:00<00:00,  2.31batch/s]\u001b[A\n",
            "Epoch 16/20:  83%|████████▎ | 144/173 [00:22<00:03,  7.72img/s, loss (batch)=0.334]\n",
            "Validation round:   0%|          | 0/2 [00:00<?, ?batch/s]\u001b[A\n",
            "Validation round:  50%|█████     | 1/2 [00:00<00:00,  2.01batch/s]\u001b[A\n",
            "Validation round: 100%|██████████| 2/2 [00:00<00:00,  2.89batch/s]\u001b[A\n",
            "Epoch 16/20: 100%|██████████| 173/173 [00:26<00:00,  7.22img/s, loss (batch)=0.323]\n",
            "Validation round:   0%|          | 0/2 [00:00<?, ?batch/s]\u001b[A\n",
            "Validation round:  50%|█████     | 1/2 [00:00<00:00,  1.85batch/s]\u001b[A\n",
            "Validation round: 100%|██████████| 2/2 [00:00<00:00,  2.76batch/s]\u001b[A\n",
            "Epoch 16/20: 100%|██████████| 173/173 [00:28<00:00,  6.09img/s, loss (batch)=0.323]\n",
            "Epoch 17/20:  18%|█▊        | 32/173 [00:03<00:12, 11.18img/s, loss (batch)=0.462]\n",
            "Validation round:   0%|          | 0/2 [00:00<?, ?batch/s]\u001b[A\n",
            "Validation round:  50%|█████     | 1/2 [00:00<00:00,  1.56batch/s]\u001b[A\n",
            "Validation round: 100%|██████████| 2/2 [00:00<00:00,  2.47batch/s]\u001b[A\n",
            "Epoch 17/20:  37%|███▋      | 64/173 [00:08<00:13,  8.10img/s, loss (batch)=0.405]\n",
            "Validation round:   0%|          | 0/2 [00:00<?, ?batch/s]\u001b[A\n",
            "Validation round:  50%|█████     | 1/2 [00:00<00:00,  1.69batch/s]\u001b[A\n",
            "Validation round: 100%|██████████| 2/2 [00:00<00:00,  2.61batch/s]\u001b[A\n",
            "Epoch 17/20:  55%|█████▌    | 96/173 [00:13<00:09,  8.00img/s, loss (batch)=0.296]\n",
            "Validation round:   0%|          | 0/2 [00:00<?, ?batch/s]\u001b[A\n",
            "Validation round:  50%|█████     | 1/2 [00:00<00:00,  1.90batch/s]\u001b[A\n",
            "Validation round: 100%|██████████| 2/2 [00:00<00:00,  2.81batch/s]\u001b[A\n",
            "Epoch 17/20:  74%|███████▍  | 128/173 [00:18<00:05,  8.05img/s, loss (batch)=0.259]\n",
            "Validation round:   0%|          | 0/2 [00:00<?, ?batch/s]\u001b[A\n",
            "Validation round:  50%|█████     | 1/2 [00:00<00:00,  1.47batch/s]\u001b[A\n",
            "Validation round: 100%|██████████| 2/2 [00:00<00:00,  2.36batch/s]\u001b[A\n",
            "Epoch 17/20:  92%|█████████▏| 160/173 [00:23<00:01,  7.74img/s, loss (batch)=0.224]\n",
            "Validation round:   0%|          | 0/2 [00:00<?, ?batch/s]\u001b[A\n",
            "Validation round:  50%|█████     | 1/2 [00:00<00:00,  1.72batch/s]\u001b[A\n",
            "Validation round: 100%|██████████| 2/2 [00:00<00:00,  2.63batch/s]\u001b[A\n",
            "Epoch 17/20: 100%|██████████| 173/173 [00:26<00:00,  6.47img/s, loss (batch)=0.313]\n",
            "Epoch 18/20:   9%|▉         | 16/173 [00:01<00:12, 12.73img/s, loss (batch)=0.259]\n",
            "Validation round:   0%|          | 0/2 [00:00<?, ?batch/s]\u001b[A\n",
            "Validation round:  50%|█████     | 1/2 [00:00<00:00,  1.83batch/s]\u001b[A\n",
            "Validation round: 100%|██████████| 2/2 [00:00<00:00,  2.72batch/s]\u001b[A\n",
            "Epoch 18/20:  28%|██▊       | 48/173 [00:06<00:15,  8.26img/s, loss (batch)=0.346]\n",
            "Validation round:   0%|          | 0/2 [00:00<?, ?batch/s]\u001b[A\n",
            "Validation round:  50%|█████     | 1/2 [00:00<00:00,  1.52batch/s]\u001b[A\n",
            "Validation round: 100%|██████████| 2/2 [00:00<00:00,  2.43batch/s]\u001b[A\n",
            "Epoch 18/20:  46%|████▌     | 80/173 [00:12<00:12,  7.67img/s, loss (batch)=0.25] \n",
            "Validation round:   0%|          | 0/2 [00:00<?, ?batch/s]\u001b[A\n",
            "Validation round:  50%|█████     | 1/2 [00:00<00:00,  1.96batch/s]\u001b[A\n",
            "Validation round: 100%|██████████| 2/2 [00:00<00:00,  2.83batch/s]\u001b[A\n",
            "Epoch 18/20:  65%|██████▍   | 112/173 [00:16<00:07,  8.04img/s, loss (batch)=0.336]\n",
            "Validation round:   0%|          | 0/2 [00:00<?, ?batch/s]\u001b[A\n",
            "Validation round:  50%|█████     | 1/2 [00:00<00:00,  1.93batch/s]\u001b[A\n",
            "Validation round: 100%|██████████| 2/2 [00:00<00:00,  2.80batch/s]\u001b[A\n",
            "Epoch 18/20:  83%|████████▎ | 144/173 [00:21<00:03,  8.11img/s, loss (batch)=0.229]\n",
            "Validation round:   0%|          | 0/2 [00:00<?, ?batch/s]\u001b[A\n",
            "Validation round:  50%|█████     | 1/2 [00:00<00:00,  1.23batch/s]\u001b[A\n",
            "Validation round: 100%|██████████| 2/2 [00:01<00:00,  2.09batch/s]\u001b[A\n",
            "Epoch 18/20: 100%|██████████| 173/173 [00:26<00:00,  6.77img/s, loss (batch)=0.225]\n",
            "Validation round:   0%|          | 0/2 [00:00<?, ?batch/s]\u001b[A\n",
            "Validation round:  50%|█████     | 1/2 [00:00<00:00,  1.96batch/s]\u001b[A\n",
            "Validation round: 100%|██████████| 2/2 [00:00<00:00,  2.85batch/s]\u001b[A\n",
            "Epoch 18/20: 100%|██████████| 173/173 [00:28<00:00,  6.05img/s, loss (batch)=0.225]\n",
            "Epoch 19/20:  18%|█▊        | 32/173 [00:03<00:12, 11.59img/s, loss (batch)=0.318]\n",
            "Validation round:   0%|          | 0/2 [00:00<?, ?batch/s]\u001b[A\n",
            "Validation round:  50%|█████     | 1/2 [00:00<00:00,  1.84batch/s]\u001b[A\n",
            "Validation round: 100%|██████████| 2/2 [00:00<00:00,  2.75batch/s]\u001b[A\n",
            "Epoch 19/20:  37%|███▋      | 64/173 [00:08<00:12,  8.52img/s, loss (batch)=0.323]\n",
            "Validation round:   0%|          | 0/2 [00:00<?, ?batch/s]\u001b[A\n",
            "Validation round:  50%|█████     | 1/2 [00:00<00:00,  1.31batch/s]\u001b[A\n",
            "Validation round: 100%|██████████| 2/2 [00:01<00:00,  2.19batch/s]\u001b[A\n",
            "Epoch 19/20:  55%|█████▌    | 96/173 [00:13<00:09,  7.71img/s, loss (batch)=0.231]\n",
            "Validation round:   0%|          | 0/2 [00:00<?, ?batch/s]\u001b[A\n",
            "Validation round:  50%|█████     | 1/2 [00:00<00:00,  1.96batch/s]\u001b[A\n",
            "Validation round: 100%|██████████| 2/2 [00:00<00:00,  2.84batch/s]\u001b[A\n",
            "Epoch 19/20:  74%|███████▍  | 128/173 [00:18<00:05,  8.00img/s, loss (batch)=0.36] \n",
            "Validation round:   0%|          | 0/2 [00:00<?, ?batch/s]\u001b[A\n",
            "Validation round:  50%|█████     | 1/2 [00:00<00:00,  1.85batch/s]\u001b[A\n",
            "Validation round: 100%|██████████| 2/2 [00:00<00:00,  2.73batch/s]\u001b[A\n",
            "Epoch 19/20:  92%|█████████▏| 160/173 [00:23<00:01,  7.99img/s, loss (batch)=0.249]\n",
            "Validation round:   0%|          | 0/2 [00:00<?, ?batch/s]\u001b[A\n",
            "Validation round:  50%|█████     | 1/2 [00:00<00:00,  1.86batch/s]\u001b[A\n",
            "Validation round: 100%|██████████| 2/2 [00:00<00:00,  2.76batch/s]\u001b[A\n",
            "Epoch 19/20: 100%|██████████| 173/173 [00:26<00:00,  6.45img/s, loss (batch)=0.295]\n",
            "Epoch 20/20:   9%|▉         | 16/173 [00:01<00:11, 14.06img/s, loss (batch)=0.257]\n",
            "Validation round:   0%|          | 0/2 [00:00<?, ?batch/s]\u001b[A\n",
            "Validation round:  50%|█████     | 1/2 [00:00<00:00,  1.84batch/s]\u001b[A\n",
            "Validation round: 100%|██████████| 2/2 [00:00<00:00,  2.73batch/s]\u001b[A\n",
            "Epoch 20/20:  28%|██▊       | 48/173 [00:06<00:14,  8.61img/s, loss (batch)=0.399]\n",
            "Validation round:   0%|          | 0/2 [00:00<?, ?batch/s]\u001b[A\n",
            "Validation round:  50%|█████     | 1/2 [00:01<00:01,  1.33s/batch]\u001b[A\n",
            "Validation round: 100%|██████████| 2/2 [00:01<00:00,  1.42batch/s]\u001b[A\n",
            "Epoch 20/20:  46%|████▌     | 80/173 [00:12<00:12,  7.33img/s, loss (batch)=0.339]\n",
            "Validation round:   0%|          | 0/2 [00:00<?, ?batch/s]\u001b[A\n",
            "Validation round:  50%|█████     | 1/2 [00:00<00:00,  1.96batch/s]\u001b[A\n",
            "Validation round: 100%|██████████| 2/2 [00:00<00:00,  2.86batch/s]\u001b[A\n",
            "Epoch 20/20:  65%|██████▍   | 112/173 [00:17<00:07,  8.01img/s, loss (batch)=0.29] \n",
            "Validation round:   0%|          | 0/2 [00:00<?, ?batch/s]\u001b[A\n",
            "Validation round:  50%|█████     | 1/2 [00:00<00:00,  1.85batch/s]\u001b[A\n",
            "Validation round: 100%|██████████| 2/2 [00:00<00:00,  2.75batch/s]\u001b[A\n",
            "Epoch 20/20:  83%|████████▎ | 144/173 [00:21<00:03,  8.11img/s, loss (batch)=0.363]\n",
            "Validation round:   0%|          | 0/2 [00:00<?, ?batch/s]\u001b[A\n",
            "Validation round:  50%|█████     | 1/2 [00:00<00:00,  1.39batch/s]\u001b[A\n",
            "Validation round: 100%|██████████| 2/2 [00:00<00:00,  2.27batch/s]\u001b[A\n",
            "Epoch 20/20: 100%|██████████| 173/173 [00:26<00:00,  6.89img/s, loss (batch)=0.26] \n",
            "Validation round:   0%|          | 0/2 [00:00<?, ?batch/s]\u001b[A\n",
            "Validation round:  50%|█████     | 1/2 [00:00<00:00,  1.92batch/s]\u001b[A\n",
            "Validation round: 100%|██████████| 2/2 [00:00<00:00,  2.83batch/s]\u001b[A\n",
            "Epoch 20/20: 100%|██████████| 173/173 [00:28<00:00,  6.02img/s, loss (batch)=0.26]\n"
          ]
        }
      ]
    },
    {
      "cell_type": "code",
      "source": [
        "torch.save(model, \"model_oneclass.pth\")"
      ],
      "metadata": {
        "id": "7bbykuXbZMK-"
      },
      "execution_count": null,
      "outputs": []
    },
    {
      "cell_type": "code",
      "source": [
        "filename = (\"/content/drive/MyDrive/Colab Notebooks/Pytorch-UNet-master/data/imgs/100.png\")\n",
        "img = Image.open(filename)\n",
        "test_pre = predict_img(model, img, device)\n",
        "plt.imshow(test_pre,cmap=\"gray\")"
      ],
      "metadata": {
        "id": "m-GTLEkuUJ66",
        "colab": {
          "base_uri": "https://localhost:8080/",
          "height": 287
        },
        "outputId": "c582238a-9141-4b8f-a8c0-a0551abde68e"
      },
      "execution_count": null,
      "outputs": [
        {
          "output_type": "execute_result",
          "data": {
            "text/plain": [
              "<matplotlib.image.AxesImage at 0x7f14d75a7220>"
            ]
          },
          "metadata": {},
          "execution_count": 28
        },
        {
          "output_type": "display_data",
          "data": {
            "text/plain": [
              "<Figure size 432x288 with 1 Axes>"
            ],
            "image/png": "[encoded data removed]"
          },
          "metadata": {
            "needs_background": "light"
          }
        }
      ]
    },
    {
      "cell_type": "code",
      "source": [],
      "metadata": {
        "id": "yOJpdl96btMq"
      },
      "execution_count": null,
      "outputs": []
    }
  ]
}